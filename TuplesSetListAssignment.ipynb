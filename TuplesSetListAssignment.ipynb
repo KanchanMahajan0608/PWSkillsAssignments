{
 "cells": [
  {
   "cell_type": "markdown",
   "id": "c41ce9db-3894-4515-a208-99a1de326684",
   "metadata": {},
   "source": [
    "1. What are the characteristics of the tuples? Is tuple immutable?"
   ]
  },
  {
   "cell_type": "markdown",
   "id": "b0cbe429-2faf-41d0-b834-a59d1bfcf764",
   "metadata": {},
   "source": [
    "Tuples are similar to set, list. Can store any kind of data in them. \n",
    "They are immutable. \n",
    "We can add new elements to them.\n",
    "\n"
   ]
  },
  {
   "cell_type": "markdown",
   "id": "a77957d0-e6be-4455-8300-e58288752578",
   "metadata": {},
   "source": [
    "2. What are the two tuple methods in python? Give an example of each method. Give a reason why tuples have only two in-built methods as compared to Lists."
   ]
  },
  {
   "cell_type": "markdown",
   "id": "e5a57720-cfc2-4fbd-aeab-384ee0e98f64",
   "metadata": {},
   "source": [
    "index() and count() are the only two methods. Since, tuples are immutable, there are only two methods.\n"
   ]
  },
  {
   "cell_type": "markdown",
   "id": "782330c2-4cb4-44af-be6e-1fe099f656cf",
   "metadata": {},
   "source": [
    "3. Which collection datatypes in python do not allow duplicate items? Write a code using a set to remove\n",
    "duplicates from the given list.\n"
   ]
  },
  {
   "cell_type": "markdown",
   "id": "35ed5eb5-9840-4088-89f8-07ec64f251bd",
   "metadata": {},
   "source": [
    "Sets don't allow duplicate items.\n"
   ]
  },
  {
   "cell_type": "code",
   "execution_count": 8,
   "id": "8b074226-c085-4c7c-a6b7-ee01cfe8bd85",
   "metadata": {},
   "outputs": [],
   "source": [
    "List = [1, 1, 1, 2, 1, 3, 1, 4, 2, 1, 2, 2, 2, 3, 2, 4, 3, 1, 3, 2, 3, 3, 3, 4, 4, 1, 4, 2, 4, 3, 4, 4]\n",
    "List = set(List)"
   ]
  },
  {
   "cell_type": "code",
   "execution_count": 9,
   "id": "5c6c25ad-f632-4c11-943a-a6cd42781a7b",
   "metadata": {},
   "outputs": [
    {
     "data": {
      "text/plain": [
       "{1, 2, 3, 4}"
      ]
     },
     "execution_count": 9,
     "metadata": {},
     "output_type": "execute_result"
    }
   ],
   "source": [
    "List"
   ]
  },
  {
   "cell_type": "markdown",
   "id": "9999be5a-ccc3-4029-8a13-bcef3ea90116",
   "metadata": {},
   "source": [
    "4. Explain the difference between the union() and update() methods for a set. Give an example of\n",
    "each method."
   ]
  },
  {
   "cell_type": "markdown",
   "id": "4687c9c1-2492-436c-b800-2e41f305e0d8",
   "metadata": {},
   "source": [
    "Union is concatenation of two sets and update is adding a new set to existing set. "
   ]
  },
  {
   "cell_type": "code",
   "execution_count": 11,
   "id": "06e30ffd-b7e4-40bc-bd38-fd78d8bc7398",
   "metadata": {},
   "outputs": [],
   "source": [
    "s1 = {1,2,3, 40}\n",
    "s2 = {5,9,80,37}\n"
   ]
  },
  {
   "cell_type": "code",
   "execution_count": 12,
   "id": "78f5f3b5-40e1-4e03-be1a-9c20ce035fdf",
   "metadata": {},
   "outputs": [
    {
     "data": {
      "text/plain": [
       "{1, 2, 3, 5, 9, 37, 40, 80}"
      ]
     },
     "execution_count": 12,
     "metadata": {},
     "output_type": "execute_result"
    }
   ],
   "source": [
    "s1.union(s2)"
   ]
  },
  {
   "cell_type": "code",
   "execution_count": 16,
   "id": "e8d96c21-ca15-48da-b657-65159fb35b56",
   "metadata": {},
   "outputs": [],
   "source": [
    "s1.update(s2)"
   ]
  },
  {
   "cell_type": "code",
   "execution_count": 17,
   "id": "6d16aa27-5eec-4008-826e-85e3e20c5617",
   "metadata": {},
   "outputs": [
    {
     "data": {
      "text/plain": [
       "{1, 2, 3, 5, 9, 37, 40, 80}"
      ]
     },
     "execution_count": 17,
     "metadata": {},
     "output_type": "execute_result"
    }
   ],
   "source": [
    "s1"
   ]
  },
  {
   "cell_type": "markdown",
   "id": "98821d56-e0db-4d92-b1fe-387cc705c00b",
   "metadata": {},
   "source": [
    "##### 5. What is a dictionary? Give an example. Also, state whether a dictionary is ordered or unordered."
   ]
  },
  {
   "cell_type": "markdown",
   "id": "84ba3f17-9dc9-42f8-83a5-c3eb71f564dc",
   "metadata": {},
   "source": [
    "Dictionary isa data structure of key, value form. \n",
    "dict = {\"A\":1, \"B\":2}\n",
    "It is unordered by default."
   ]
  },
  {
   "cell_type": "markdown",
   "id": "ac1d87c3-9344-4f82-a09f-6f8f02cdc447",
   "metadata": {},
   "source": [
    "##### 6. Using setdefault() method, create key named topics in the given dictionary and also add the value of the key as this list ['Python', 'Machine Learning’, 'Deep Learning']\n",
    "dict1 = {'language' : 'Python', 'course': 'Data Science Masters'}"
   ]
  },
  {
   "cell_type": "code",
   "execution_count": 21,
   "id": "41d0f848-f2de-49cd-b913-f0e8a9342710",
   "metadata": {},
   "outputs": [
    {
     "data": {
      "text/plain": [
       "['Python', 'Machine Learning', 'Deep Learning']"
      ]
     },
     "execution_count": 21,
     "metadata": {},
     "output_type": "execute_result"
    }
   ],
   "source": [
    "dict1 = {'language' : 'Python', 'course': 'Data Science Masters'}\n",
    "dict1.setdefault(\"Topics\",  ['Python', 'Machine Learning', 'Deep Learning' ])"
   ]
  },
  {
   "cell_type": "markdown",
   "id": "022a00d7-fe16-4bfc-bf43-5050b432c188",
   "metadata": {},
   "source": [
    "##### 7. What are the three view objects in dictionaries? Use the three in-built methods in python to display\n",
    "these three view objects for the given dictionary.\n",
    "dict1 = {'Sport': 'Cricket' , 'Teams': ['India', 'Australia', 'England', 'South Africa', 'Sri Lanka', 'New Zealand']}\n"
   ]
  },
  {
   "cell_type": "code",
   "execution_count": null,
   "id": "33d40666-2eda-4996-b885-c467132cfa47",
   "metadata": {},
   "outputs": [],
   "source": []
  }
 ],
 "metadata": {
  "kernelspec": {
   "display_name": "Python 3 (ipykernel)",
   "language": "python",
   "name": "python3"
  },
  "language_info": {
   "codemirror_mode": {
    "name": "ipython",
    "version": 3
   },
   "file_extension": ".py",
   "mimetype": "text/x-python",
   "name": "python",
   "nbconvert_exporter": "python",
   "pygments_lexer": "ipython3",
   "version": "3.10.8"
  }
 },
 "nbformat": 4,
 "nbformat_minor": 5
}
